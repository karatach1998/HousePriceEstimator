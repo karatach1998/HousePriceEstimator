{
 "cells": [
  {
   "cell_type": "code",
   "execution_count": 23,
   "metadata": {},
   "outputs": [
    {
     "name": "stdout",
     "output_type": "stream",
     "text": [
      "Requirement already satisfied: selenium in /home/sergey/.cache/pypoetry/virtualenvs/geo-info-mfl4iZU3-py3.10/lib/python3.10/site-packages (4.9.1)\n",
      "Collecting pandas\n",
      "  Downloading pandas-2.0.1-cp310-cp310-manylinux_2_17_x86_64.manylinux2014_x86_64.whl (12.3 MB)\n",
      "\u001b[2K     \u001b[90m━━━━━━━━━━━━━━━━━━━━━━━━━━━━━━━━━━━━━━━━\u001b[0m \u001b[32m12.3/12.3 MB\u001b[0m \u001b[31m2.4 MB/s\u001b[0m eta \u001b[36m0:00:00\u001b[0m00:01\u001b[0m00:01\u001b[0mm\n",
      "\u001b[?25hRequirement already satisfied: urllib3[socks]<3,>=1.26 in /home/sergey/.cache/pypoetry/virtualenvs/geo-info-mfl4iZU3-py3.10/lib/python3.10/site-packages (from selenium) (2.0.2)\n",
      "Requirement already satisfied: certifi>=2021.10.8 in /home/sergey/.cache/pypoetry/virtualenvs/geo-info-mfl4iZU3-py3.10/lib/python3.10/site-packages (from selenium) (2023.5.7)\n",
      "Requirement already satisfied: trio~=0.17 in /home/sergey/.cache/pypoetry/virtualenvs/geo-info-mfl4iZU3-py3.10/lib/python3.10/site-packages (from selenium) (0.22.0)\n",
      "Requirement already satisfied: trio-websocket~=0.9 in /home/sergey/.cache/pypoetry/virtualenvs/geo-info-mfl4iZU3-py3.10/lib/python3.10/site-packages (from selenium) (0.10.2)\n",
      "Collecting tzdata>=2022.1\n",
      "  Downloading tzdata-2023.3-py2.py3-none-any.whl (341 kB)\n",
      "\u001b[2K     \u001b[90m━━━━━━━━━━━━━━━━━━━━━━━━━━━━━━━━━━━━━━━\u001b[0m \u001b[32m341.8/341.8 kB\u001b[0m \u001b[31m2.2 MB/s\u001b[0m eta \u001b[36m0:00:00\u001b[0ma \u001b[36m0:00:01\u001b[0m\n",
      "\u001b[?25hCollecting pytz>=2020.1\n",
      "  Downloading pytz-2023.3-py2.py3-none-any.whl (502 kB)\n",
      "\u001b[2K     \u001b[90m━━━━━━━━━━━━━━━━━━━━━━━━━━━━━━━━━━━━━━━\u001b[0m \u001b[32m502.3/502.3 kB\u001b[0m \u001b[31m4.0 MB/s\u001b[0m eta \u001b[36m0:00:00\u001b[0ma \u001b[36m0:00:01\u001b[0m\n",
      "\u001b[?25hRequirement already satisfied: numpy>=1.21.0 in /home/sergey/.cache/pypoetry/virtualenvs/geo-info-mfl4iZU3-py3.10/lib/python3.10/site-packages (from pandas) (1.24.3)\n",
      "Requirement already satisfied: python-dateutil>=2.8.2 in /home/sergey/.cache/pypoetry/virtualenvs/geo-info-mfl4iZU3-py3.10/lib/python3.10/site-packages (from pandas) (2.8.2)\n",
      "Requirement already satisfied: six>=1.5 in /home/sergey/.cache/pypoetry/virtualenvs/geo-info-mfl4iZU3-py3.10/lib/python3.10/site-packages (from python-dateutil>=2.8.2->pandas) (1.16.0)\n",
      "Requirement already satisfied: sniffio in /home/sergey/.cache/pypoetry/virtualenvs/geo-info-mfl4iZU3-py3.10/lib/python3.10/site-packages (from trio~=0.17->selenium) (1.3.0)\n",
      "Requirement already satisfied: async-generator>=1.9 in /home/sergey/.cache/pypoetry/virtualenvs/geo-info-mfl4iZU3-py3.10/lib/python3.10/site-packages (from trio~=0.17->selenium) (1.10)\n",
      "Requirement already satisfied: attrs>=19.2.0 in /home/sergey/.cache/pypoetry/virtualenvs/geo-info-mfl4iZU3-py3.10/lib/python3.10/site-packages (from trio~=0.17->selenium) (23.1.0)\n",
      "Requirement already satisfied: exceptiongroup>=1.0.0rc9 in /home/sergey/.cache/pypoetry/virtualenvs/geo-info-mfl4iZU3-py3.10/lib/python3.10/site-packages (from trio~=0.17->selenium) (1.1.1)\n",
      "Requirement already satisfied: sortedcontainers in /home/sergey/.cache/pypoetry/virtualenvs/geo-info-mfl4iZU3-py3.10/lib/python3.10/site-packages (from trio~=0.17->selenium) (2.4.0)\n",
      "Requirement already satisfied: idna in /home/sergey/.cache/pypoetry/virtualenvs/geo-info-mfl4iZU3-py3.10/lib/python3.10/site-packages (from trio~=0.17->selenium) (3.4)\n",
      "Requirement already satisfied: outcome in /home/sergey/.cache/pypoetry/virtualenvs/geo-info-mfl4iZU3-py3.10/lib/python3.10/site-packages (from trio~=0.17->selenium) (1.2.0)\n",
      "Requirement already satisfied: wsproto>=0.14 in /home/sergey/.cache/pypoetry/virtualenvs/geo-info-mfl4iZU3-py3.10/lib/python3.10/site-packages (from trio-websocket~=0.9->selenium) (1.2.0)\n",
      "Requirement already satisfied: pysocks!=1.5.7,<2.0,>=1.5.6 in /home/sergey/.cache/pypoetry/virtualenvs/geo-info-mfl4iZU3-py3.10/lib/python3.10/site-packages (from urllib3[socks]<3,>=1.26->selenium) (1.7.1)\n",
      "Requirement already satisfied: h11<1,>=0.9.0 in /home/sergey/.cache/pypoetry/virtualenvs/geo-info-mfl4iZU3-py3.10/lib/python3.10/site-packages (from wsproto>=0.14->trio-websocket~=0.9->selenium) (0.14.0)\n",
      "Installing collected packages: pytz, tzdata, pandas\n",
      "Successfully installed pandas-2.0.1 pytz-2023.3 tzdata-2023.3\n",
      "\n",
      "\u001b[1m[\u001b[0m\u001b[34;49mnotice\u001b[0m\u001b[1;39;49m]\u001b[0m\u001b[39;49m A new release of pip is available: \u001b[0m\u001b[31;49m23.0.1\u001b[0m\u001b[39;49m -> \u001b[0m\u001b[32;49m23.1.2\u001b[0m\n",
      "\u001b[1m[\u001b[0m\u001b[34;49mnotice\u001b[0m\u001b[1;39;49m]\u001b[0m\u001b[39;49m To update, run: \u001b[0m\u001b[32;49mpython -m pip install --upgrade pip\u001b[0m\n"
     ]
    }
   ],
   "source": [
    "!/usr/bin/env python -m pip install selenium pandas"
   ]
  },
  {
   "cell_type": "code",
   "execution_count": 2,
   "metadata": {},
   "outputs": [],
   "source": [
    "import time\n",
    "import re\n",
    "\n",
    "from selenium import webdriver\n",
    "from selenium.webdriver.common.by import By\n",
    "from selenium.webdriver.common.keys import Keys"
   ]
  },
  {
   "cell_type": "code",
   "execution_count": 3,
   "metadata": {},
   "outputs": [],
   "source": [
    "firefox_options = webdriver.FirefoxOptions()\n",
    "driver = webdriver.Remote(command_executor=\"http://localhost:4444/wd/hub\", options=firefox_options)"
   ]
  },
  {
   "cell_type": "code",
   "execution_count": 4,
   "metadata": {},
   "outputs": [],
   "source": [
    "routes = []"
   ]
  },
  {
   "cell_type": "code",
   "execution_count": 5,
   "metadata": {},
   "outputs": [
    {
     "ename": "NoSuchElementException",
     "evalue": "Message: Unable to locate element: ._96iy63\nStacktrace:\nRemoteError@chrome://remote/content/shared/RemoteError.sys.mjs:8:8\nWebDriverError@chrome://remote/content/shared/webdriver/Errors.sys.mjs:180:5\nNoSuchElementError@chrome://remote/content/shared/webdriver/Errors.sys.mjs:392:5\nelement.find/</<@chrome://remote/content/marionette/element.sys.mjs:134:16\n",
     "output_type": "error",
     "traceback": [
      "\u001b[0;31m---------------------------------------------------------------------------\u001b[0m",
      "\u001b[0;31mNoSuchElementException\u001b[0m                    Traceback (most recent call last)",
      "Cell \u001b[0;32mIn[5], line 3\u001b[0m\n\u001b[1;32m      1\u001b[0m driver\u001b[39m.\u001b[39mget(\u001b[39mf\u001b[39m\u001b[39m\"\u001b[39m\u001b[39mhttps://2gis.ru/moscow/search/электричка/\u001b[39m\u001b[39m\"\u001b[39m)\n\u001b[1;32m      2\u001b[0m \u001b[39mfor\u001b[39;00m page \u001b[39min\u001b[39;00m \u001b[39mrange\u001b[39m(\u001b[39m1\u001b[39m, \u001b[39m15\u001b[39m):\n\u001b[0;32m----> 3\u001b[0m     routes\u001b[39m.\u001b[39;49mextend(el\u001b[39m.\u001b[39;49mfind_element(By\u001b[39m.\u001b[39;49mCLASS_NAME, \u001b[39m\"\u001b[39;49m\u001b[39m_1rehek\u001b[39;49m\u001b[39m\"\u001b[39;49m)\u001b[39m.\u001b[39;49mget_attribute(\u001b[39m'\u001b[39;49m\u001b[39mhref\u001b[39;49m\u001b[39m'\u001b[39;49m) \u001b[39mfor\u001b[39;49;00m el \u001b[39min\u001b[39;49;00m driver\u001b[39m.\u001b[39;49mfind_elements(By\u001b[39m.\u001b[39;49mCLASS_NAME, \u001b[39m\"\u001b[39;49m\u001b[39m_1kf6gff\u001b[39;49m\u001b[39m\"\u001b[39;49m) \u001b[39mif\u001b[39;49;00m el\u001b[39m.\u001b[39;49mfind_element(By\u001b[39m.\u001b[39;49mCLASS_NAME, \u001b[39m\"\u001b[39;49m\u001b[39m_96iy63\u001b[39;49m\u001b[39m\"\u001b[39;49m)\u001b[39m.\u001b[39;49mtext \u001b[39m==\u001b[39;49m \u001b[39m\"\u001b[39;49m\u001b[39mЭлектричка\u001b[39;49m\u001b[39m\"\u001b[39;49m)\n\u001b[1;32m      4\u001b[0m     driver\u001b[39m.\u001b[39mexecute_script(\u001b[39m\"\u001b[39m\u001b[39mdocument.querySelector(\u001b[39m\u001b[39m'\u001b[39m\u001b[39mdiv._n5hmn94:last-child\u001b[39m\u001b[39m'\u001b[39m\u001b[39m).click();\u001b[39m\u001b[39m\"\u001b[39m)\n\u001b[1;32m      5\u001b[0m     time\u001b[39m.\u001b[39msleep(\u001b[39m1.5\u001b[39m)\n",
      "Cell \u001b[0;32mIn[5], line 3\u001b[0m, in \u001b[0;36m<genexpr>\u001b[0;34m(.0)\u001b[0m\n\u001b[1;32m      1\u001b[0m driver\u001b[39m.\u001b[39mget(\u001b[39mf\u001b[39m\u001b[39m\"\u001b[39m\u001b[39mhttps://2gis.ru/moscow/search/электричка/\u001b[39m\u001b[39m\"\u001b[39m)\n\u001b[1;32m      2\u001b[0m \u001b[39mfor\u001b[39;00m page \u001b[39min\u001b[39;00m \u001b[39mrange\u001b[39m(\u001b[39m1\u001b[39m, \u001b[39m15\u001b[39m):\n\u001b[0;32m----> 3\u001b[0m     routes\u001b[39m.\u001b[39mextend(el\u001b[39m.\u001b[39mfind_element(By\u001b[39m.\u001b[39mCLASS_NAME, \u001b[39m\"\u001b[39m\u001b[39m_1rehek\u001b[39m\u001b[39m\"\u001b[39m)\u001b[39m.\u001b[39mget_attribute(\u001b[39m'\u001b[39m\u001b[39mhref\u001b[39m\u001b[39m'\u001b[39m) \u001b[39mfor\u001b[39;00m el \u001b[39min\u001b[39;00m driver\u001b[39m.\u001b[39mfind_elements(By\u001b[39m.\u001b[39mCLASS_NAME, \u001b[39m\"\u001b[39m\u001b[39m_1kf6gff\u001b[39m\u001b[39m\"\u001b[39m) \u001b[39mif\u001b[39;00m el\u001b[39m.\u001b[39;49mfind_element(By\u001b[39m.\u001b[39;49mCLASS_NAME, \u001b[39m\"\u001b[39;49m\u001b[39m_96iy63\u001b[39;49m\u001b[39m\"\u001b[39;49m)\u001b[39m.\u001b[39mtext \u001b[39m==\u001b[39m \u001b[39m\"\u001b[39m\u001b[39mЭлектричка\u001b[39m\u001b[39m\"\u001b[39m)\n\u001b[1;32m      4\u001b[0m     driver\u001b[39m.\u001b[39mexecute_script(\u001b[39m\"\u001b[39m\u001b[39mdocument.querySelector(\u001b[39m\u001b[39m'\u001b[39m\u001b[39mdiv._n5hmn94:last-child\u001b[39m\u001b[39m'\u001b[39m\u001b[39m).click();\u001b[39m\u001b[39m\"\u001b[39m)\n\u001b[1;32m      5\u001b[0m     time\u001b[39m.\u001b[39msleep(\u001b[39m1.5\u001b[39m)\n",
      "File \u001b[0;32m~/.cache/pypoetry/virtualenvs/geo-info-mfl4iZU3-py3.10/lib/python3.10/site-packages/selenium/webdriver/remote/webelement.py:425\u001b[0m, in \u001b[0;36mWebElement.find_element\u001b[0;34m(self, by, value)\u001b[0m\n\u001b[1;32m    422\u001b[0m     by \u001b[39m=\u001b[39m By\u001b[39m.\u001b[39mCSS_SELECTOR\n\u001b[1;32m    423\u001b[0m     value \u001b[39m=\u001b[39m \u001b[39mf\u001b[39m\u001b[39m'\u001b[39m\u001b[39m[name=\u001b[39m\u001b[39m\"\u001b[39m\u001b[39m{\u001b[39;00mvalue\u001b[39m}\u001b[39;00m\u001b[39m\"\u001b[39m\u001b[39m]\u001b[39m\u001b[39m'\u001b[39m\n\u001b[0;32m--> 425\u001b[0m \u001b[39mreturn\u001b[39;00m \u001b[39mself\u001b[39;49m\u001b[39m.\u001b[39;49m_execute(Command\u001b[39m.\u001b[39;49mFIND_CHILD_ELEMENT, {\u001b[39m\"\u001b[39;49m\u001b[39musing\u001b[39;49m\u001b[39m\"\u001b[39;49m: by, \u001b[39m\"\u001b[39;49m\u001b[39mvalue\u001b[39;49m\u001b[39m\"\u001b[39;49m: value})[\u001b[39m\"\u001b[39m\u001b[39mvalue\u001b[39m\u001b[39m\"\u001b[39m]\n",
      "File \u001b[0;32m~/.cache/pypoetry/virtualenvs/geo-info-mfl4iZU3-py3.10/lib/python3.10/site-packages/selenium/webdriver/remote/webelement.py:403\u001b[0m, in \u001b[0;36mWebElement._execute\u001b[0;34m(self, command, params)\u001b[0m\n\u001b[1;32m    401\u001b[0m     params \u001b[39m=\u001b[39m {}\n\u001b[1;32m    402\u001b[0m params[\u001b[39m\"\u001b[39m\u001b[39mid\u001b[39m\u001b[39m\"\u001b[39m] \u001b[39m=\u001b[39m \u001b[39mself\u001b[39m\u001b[39m.\u001b[39m_id\n\u001b[0;32m--> 403\u001b[0m \u001b[39mreturn\u001b[39;00m \u001b[39mself\u001b[39;49m\u001b[39m.\u001b[39;49m_parent\u001b[39m.\u001b[39;49mexecute(command, params)\n",
      "File \u001b[0;32m~/.cache/pypoetry/virtualenvs/geo-info-mfl4iZU3-py3.10/lib/python3.10/site-packages/selenium/webdriver/remote/webdriver.py:440\u001b[0m, in \u001b[0;36mWebDriver.execute\u001b[0;34m(self, driver_command, params)\u001b[0m\n\u001b[1;32m    438\u001b[0m response \u001b[39m=\u001b[39m \u001b[39mself\u001b[39m\u001b[39m.\u001b[39mcommand_executor\u001b[39m.\u001b[39mexecute(driver_command, params)\n\u001b[1;32m    439\u001b[0m \u001b[39mif\u001b[39;00m response:\n\u001b[0;32m--> 440\u001b[0m     \u001b[39mself\u001b[39;49m\u001b[39m.\u001b[39;49merror_handler\u001b[39m.\u001b[39;49mcheck_response(response)\n\u001b[1;32m    441\u001b[0m     response[\u001b[39m\"\u001b[39m\u001b[39mvalue\u001b[39m\u001b[39m\"\u001b[39m] \u001b[39m=\u001b[39m \u001b[39mself\u001b[39m\u001b[39m.\u001b[39m_unwrap_value(response\u001b[39m.\u001b[39mget(\u001b[39m\"\u001b[39m\u001b[39mvalue\u001b[39m\u001b[39m\"\u001b[39m, \u001b[39mNone\u001b[39;00m))\n\u001b[1;32m    442\u001b[0m     \u001b[39mreturn\u001b[39;00m response\n",
      "File \u001b[0;32m~/.cache/pypoetry/virtualenvs/geo-info-mfl4iZU3-py3.10/lib/python3.10/site-packages/selenium/webdriver/remote/errorhandler.py:245\u001b[0m, in \u001b[0;36mErrorHandler.check_response\u001b[0;34m(self, response)\u001b[0m\n\u001b[1;32m    243\u001b[0m         alert_text \u001b[39m=\u001b[39m value[\u001b[39m\"\u001b[39m\u001b[39malert\u001b[39m\u001b[39m\"\u001b[39m]\u001b[39m.\u001b[39mget(\u001b[39m\"\u001b[39m\u001b[39mtext\u001b[39m\u001b[39m\"\u001b[39m)\n\u001b[1;32m    244\u001b[0m     \u001b[39mraise\u001b[39;00m exception_class(message, screen, stacktrace, alert_text)  \u001b[39m# type: ignore[call-arg]  # mypy is not smart enough here\u001b[39;00m\n\u001b[0;32m--> 245\u001b[0m \u001b[39mraise\u001b[39;00m exception_class(message, screen, stacktrace)\n",
      "\u001b[0;31mNoSuchElementException\u001b[0m: Message: Unable to locate element: ._96iy63\nStacktrace:\nRemoteError@chrome://remote/content/shared/RemoteError.sys.mjs:8:8\nWebDriverError@chrome://remote/content/shared/webdriver/Errors.sys.mjs:180:5\nNoSuchElementError@chrome://remote/content/shared/webdriver/Errors.sys.mjs:392:5\nelement.find/</<@chrome://remote/content/marionette/element.sys.mjs:134:16\n"
     ]
    }
   ],
   "source": [
    "driver.get(f\"https://2gis.ru/moscow/search/электричка/\")\n",
    "for page in range(1, 15):\n",
    "    routes.extend(el.find_element(By.CLASS_NAME, \"_1rehek\").get_attribute('href') for el in driver.find_elements(By.CLASS_NAME, \"_1kf6gff\") if el.find_element(By.CLASS_NAME, \"_96iy63\").text == \"Электричка\")\n",
    "    driver.execute_script(\"document.querySelector('div._n5hmn94:last-child').click();\")\n",
    "    time.sleep(1.5)"
   ]
  },
  {
   "cell_type": "code",
   "execution_count": 6,
   "metadata": {},
   "outputs": [
    {
     "data": {
      "text/plain": [
       "'https://2gis.ru/moscow/route/4504205217761251?stat=eyJwYXJlbnRUYWJJZCI6IjI5NzgyODdlLTRmNjEtNDMzNS1hY2Q1LTk0ZTUwZjgwNDc5MiIsImZvcmtFdmVudE9yZGluYWwiOjIsInVpRWxlbWVudCI6eyJuYW1lIjoicGxhY2VDYXJkTWluaSIsIm93bmVyTmFtZSI6InNlYXJjaFJlc3VsdHNMaXN0IiwicG9zaXRpb24iOjF9LCJwbGFjZUl0ZW0iOnsiZW50aXR5Ijp7ImlkIjoiNDUwNDIwNTIxNzc2MTI1MSIsInR5cGUiOiJyb3V0ZSIsInN1YnR5cGUiOiJzdWJ1cmJhbl90cmFpbiIsInNlZ21lbnRJbmZvIjp7ImJhc2VMb2NhbGUiOiJydV9SVSIsInNlZ21lbnRJZCI6IjMyIn19LCJyZXN1bHRDbGFzcyI6ODcsInBvc2l0aW9uIjoxfSwic2VhcmNoUmVzdWx0c0xpc3QiOnsic2l6ZSI6MTYyLCJzZWFyY2hUeXBlIjo3LCJmaXJzdFJlc3VsdENsYXNzIjo3LCJoYXNHZW9SZXN0cmljdGlvbiI6ZmFsc2UsInBhcnRpYWxSZXN1bHQiOmZhbHNlLCJvdXR2aWV3cG9ydCI6W3sibGF0Ijo1NS44NzgwODk1ODc4MTQzNDQsImxvbiI6MzcuMzAxNTY2NTAxMDc2NDJ9LHsibGF0Ijo1NS42Mjg4NDI0MTIxODU2NiwibG9uIjozNy4zMDE1NjY1MDEwNzY0Mn0seyJsYXQiOjU1LjYyODg0MjQxMjE4NTY2LCJsb24iOjM3LjkzODc3MzQ5ODkyMzU4fSx7ImxhdCI6NTUuODc4MDg5NTg3ODE0MzQ0LCJsb24iOjM3LjkzODc3MzQ5ODkyMzU4fV0sInNlYXJjaFNlZ21lbnRJZCI6IjMyIiwicnR3VmVyc2lvbiI6ImU1ZTQyZjBmLTQ5NTEtNDcyYi1hOTA2LTM3YzlmZjk3YTJjOCJ9fQ%3D%3D'"
      ]
     },
     "execution_count": 6,
     "metadata": {},
     "output_type": "execute_result"
    }
   ],
   "source": [
    "len(routes)\n",
    "routes[0]"
   ]
  },
  {
   "cell_type": "code",
   "execution_count": 7,
   "metadata": {},
   "outputs": [],
   "source": [
    "ROUTE_ID_REGEX = re.compile(r\"route/(\\d+)\")\n",
    "PLATFORM_ID_REGEX = re.compile(r\"platform\\/(\\d+)\")\n",
    "platforms = []\n",
    "for route_url in routes:\n",
    "    route_id = ROUTE_ID_REGEX.search(route_url)[1]\n",
    "    driver.get(route_url)\n",
    "    platforms.extend(\n",
    "        dict(route_id=route_id, platform_id=PLATFORM_ID_REGEX.search(a.get_attribute(\"href\"))[1], platform_name=a.find_element(By.TAG_NAME, 'span').text, href=a.get_attribute(\"href\"))\n",
    "        for a in driver.find_element(By.CLASS_NAME, \"_9xuavt\").find_elements(By.CLASS_NAME, \"_2lcm958\")\n",
    "    )\n",
    "    # break"
   ]
  },
  {
   "cell_type": "code",
   "execution_count": 17,
   "metadata": {},
   "outputs": [],
   "source": [
    "COORDS_REGEX = re.compile(r\"points\\/.?(?P<lon>\\d+\\.\\d+),(?P<lat>\\d+\\.\\d+);\")\n",
    "from urllib.parse import unquote\n",
    "for p in platforms:\n",
    "    driver.get(p.get(\"href\"))\n",
    "    href = driver.find_element(By.XPATH, \"//div[@class='_vaj62s'][last()]/a[@class='_1qhm93s']\").get_attribute(\"href\")\n",
    "    p.update(COORDS_REGEX.search(unquote(href)).groupdict())"
   ]
  },
  {
   "cell_type": "code",
   "execution_count": 20,
   "metadata": {},
   "outputs": [],
   "source": [
    "import json\n",
    "with open(\"./platforms.json\", 'w') as f:\n",
    "    json.dump(platforms, f)"
   ]
  },
  {
   "cell_type": "code",
   "execution_count": 24,
   "metadata": {},
   "outputs": [
    {
     "data": {
      "text/html": [
       "<div>\n",
       "<style scoped>\n",
       "    .dataframe tbody tr th:only-of-type {\n",
       "        vertical-align: middle;\n",
       "    }\n",
       "\n",
       "    .dataframe tbody tr th {\n",
       "        vertical-align: top;\n",
       "    }\n",
       "\n",
       "    .dataframe thead th {\n",
       "        text-align: right;\n",
       "    }\n",
       "</style>\n",
       "<table border=\"1\" class=\"dataframe\">\n",
       "  <thead>\n",
       "    <tr style=\"text-align: right;\">\n",
       "      <th></th>\n",
       "      <th>route_id</th>\n",
       "      <th>platform_id</th>\n",
       "      <th>platform_name</th>\n",
       "      <th>href</th>\n",
       "      <th>lon</th>\n",
       "      <th>lat</th>\n",
       "    </tr>\n",
       "  </thead>\n",
       "  <tbody>\n",
       "    <tr>\n",
       "      <th>0</th>\n",
       "      <td>4504205217761251</td>\n",
       "      <td>4504282527180955</td>\n",
       "      <td>Катуар</td>\n",
       "      <td>https://2gis.ru/moscow/platform/4504282527180955</td>\n",
       "      <td>37.504445</td>\n",
       "      <td>56.091081</td>\n",
       "    </tr>\n",
       "    <tr>\n",
       "      <th>1</th>\n",
       "      <td>4504205217761251</td>\n",
       "      <td>4504282527180951</td>\n",
       "      <td>Некрасовская</td>\n",
       "      <td>https://2gis.ru/moscow/platform/4504282527180951</td>\n",
       "      <td>37.495965</td>\n",
       "      <td>56.074599</td>\n",
       "    </tr>\n",
       "    <tr>\n",
       "      <th>2</th>\n",
       "      <td>4504205217761251</td>\n",
       "      <td>4504282527180909</td>\n",
       "      <td>Луговая</td>\n",
       "      <td>https://2gis.ru/moscow/platform/4504282527180909</td>\n",
       "      <td>37.492626</td>\n",
       "      <td>56.048837</td>\n",
       "    </tr>\n",
       "    <tr>\n",
       "      <th>3</th>\n",
       "      <td>4504205217761251</td>\n",
       "      <td>4504282834361776</td>\n",
       "      <td>Депо</td>\n",
       "      <td>https://2gis.ru/moscow/platform/4504282834361776</td>\n",
       "      <td>37.486449</td>\n",
       "      <td>56.028549</td>\n",
       "    </tr>\n",
       "    <tr>\n",
       "      <th>4</th>\n",
       "      <td>4504205217761251</td>\n",
       "      <td>4504282527180983</td>\n",
       "      <td>Лобня</td>\n",
       "      <td>https://2gis.ru/moscow/platform/4504282527180983</td>\n",
       "      <td>37.484698</td>\n",
       "      <td>56.013821</td>\n",
       "    </tr>\n",
       "  </tbody>\n",
       "</table>\n",
       "</div>"
      ],
      "text/plain": [
       "           route_id       platform_id platform_name   \n",
       "0  4504205217761251  4504282527180955        Катуар  \\\n",
       "1  4504205217761251  4504282527180951  Некрасовская   \n",
       "2  4504205217761251  4504282527180909       Луговая   \n",
       "3  4504205217761251  4504282834361776          Депо   \n",
       "4  4504205217761251  4504282527180983         Лобня   \n",
       "\n",
       "                                               href        lon        lat  \n",
       "0  https://2gis.ru/moscow/platform/4504282527180955  37.504445  56.091081  \n",
       "1  https://2gis.ru/moscow/platform/4504282527180951  37.495965  56.074599  \n",
       "2  https://2gis.ru/moscow/platform/4504282527180909  37.492626  56.048837  \n",
       "3  https://2gis.ru/moscow/platform/4504282834361776  37.486449  56.028549  \n",
       "4  https://2gis.ru/moscow/platform/4504282527180983  37.484698  56.013821  "
      ]
     },
     "execution_count": 24,
     "metadata": {},
     "output_type": "execute_result"
    }
   ],
   "source": [
    "import pandas as pd\n",
    "df = pd.DataFrame.from_records(platforms)\n",
    "df.head()"
   ]
  },
  {
   "cell_type": "code",
   "execution_count": 25,
   "metadata": {},
   "outputs": [],
   "source": [
    "df.drop(columns=['href'], inplace=True)\n",
    "df.lon = pd.to_numeric(df.lon)\n",
    "df.lat = pd.to_numeric(df.lat)"
   ]
  },
  {
   "cell_type": "code",
   "execution_count": 32,
   "metadata": {},
   "outputs": [],
   "source": [
    "df = df.groupby('platform_id').agg({'route_id': list, 'platform_name': 'first', 'lon': 'first', 'lat': 'first'}).reset_index()"
   ]
  },
  {
   "cell_type": "code",
   "execution_count": 33,
   "metadata": {},
   "outputs": [],
   "source": [
    "import redis\n",
    "R = redis.Redis(host='localhost')"
   ]
  },
  {
   "cell_type": "code",
   "execution_count": 35,
   "metadata": {},
   "outputs": [],
   "source": [
    "for index, row in df.iterrows():\n",
    "    data = row.to_dict()\n",
    "    lon = data.pop(\"lon\")\n",
    "    lat = data.pop(\"lat\")\n",
    "    R.geoadd(\"organization:railroad\", (lon, lat, json.dumps(data)))"
   ]
  },
  {
   "cell_type": "code",
   "execution_count": null,
   "metadata": {},
   "outputs": [],
   "source": []
  }
 ],
 "metadata": {
  "kernelspec": {
   "display_name": "geo_info",
   "language": "python",
   "name": "geo_info"
  },
  "language_info": {
   "codemirror_mode": {
    "name": "ipython",
    "version": 3
   },
   "file_extension": ".py",
   "mimetype": "text/x-python",
   "name": "python",
   "nbconvert_exporter": "python",
   "pygments_lexer": "ipython3",
   "version": "3.10.7"
  },
  "orig_nbformat": 4
 },
 "nbformat": 4,
 "nbformat_minor": 2
}
