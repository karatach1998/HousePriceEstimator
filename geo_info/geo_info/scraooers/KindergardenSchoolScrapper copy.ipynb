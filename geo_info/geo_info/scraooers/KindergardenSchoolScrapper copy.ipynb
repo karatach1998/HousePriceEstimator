{
 "cells": [
  {
   "cell_type": "code",
   "execution_count": 1,
   "metadata": {},
   "outputs": [
    {
     "name": "stdout",
     "output_type": "stream",
     "text": [
      "Requirement already satisfied: selenium in /home/sergey/.cache/pypoetry/virtualenvs/geo-info-mfl4iZU3-py3.10/lib/python3.10/site-packages (4.9.1)\n",
      "Requirement already satisfied: pandas in /home/sergey/.cache/pypoetry/virtualenvs/geo-info-mfl4iZU3-py3.10/lib/python3.10/site-packages (2.0.1)\n",
      "Requirement already satisfied: certifi>=2021.10.8 in /home/sergey/.cache/pypoetry/virtualenvs/geo-info-mfl4iZU3-py3.10/lib/python3.10/site-packages (from selenium) (2023.5.7)\n",
      "Requirement already satisfied: urllib3[socks]<3,>=1.26 in /home/sergey/.cache/pypoetry/virtualenvs/geo-info-mfl4iZU3-py3.10/lib/python3.10/site-packages (from selenium) (2.0.2)\n",
      "Requirement already satisfied: trio-websocket~=0.9 in /home/sergey/.cache/pypoetry/virtualenvs/geo-info-mfl4iZU3-py3.10/lib/python3.10/site-packages (from selenium) (0.10.2)\n",
      "Requirement already satisfied: trio~=0.17 in /home/sergey/.cache/pypoetry/virtualenvs/geo-info-mfl4iZU3-py3.10/lib/python3.10/site-packages (from selenium) (0.22.0)\n",
      "Requirement already satisfied: tzdata>=2022.1 in /home/sergey/.cache/pypoetry/virtualenvs/geo-info-mfl4iZU3-py3.10/lib/python3.10/site-packages (from pandas) (2023.3)\n",
      "Requirement already satisfied: numpy>=1.21.0 in /home/sergey/.cache/pypoetry/virtualenvs/geo-info-mfl4iZU3-py3.10/lib/python3.10/site-packages (from pandas) (1.24.3)\n",
      "Requirement already satisfied: pytz>=2020.1 in /home/sergey/.cache/pypoetry/virtualenvs/geo-info-mfl4iZU3-py3.10/lib/python3.10/site-packages (from pandas) (2023.3)\n",
      "Requirement already satisfied: python-dateutil>=2.8.2 in /home/sergey/.cache/pypoetry/virtualenvs/geo-info-mfl4iZU3-py3.10/lib/python3.10/site-packages (from pandas) (2.8.2)\n",
      "Requirement already satisfied: six>=1.5 in /home/sergey/.cache/pypoetry/virtualenvs/geo-info-mfl4iZU3-py3.10/lib/python3.10/site-packages (from python-dateutil>=2.8.2->pandas) (1.16.0)\n",
      "Requirement already satisfied: sniffio in /home/sergey/.cache/pypoetry/virtualenvs/geo-info-mfl4iZU3-py3.10/lib/python3.10/site-packages (from trio~=0.17->selenium) (1.3.0)\n",
      "Requirement already satisfied: async-generator>=1.9 in /home/sergey/.cache/pypoetry/virtualenvs/geo-info-mfl4iZU3-py3.10/lib/python3.10/site-packages (from trio~=0.17->selenium) (1.10)\n",
      "Requirement already satisfied: exceptiongroup>=1.0.0rc9 in /home/sergey/.cache/pypoetry/virtualenvs/geo-info-mfl4iZU3-py3.10/lib/python3.10/site-packages (from trio~=0.17->selenium) (1.1.1)\n",
      "Requirement already satisfied: outcome in /home/sergey/.cache/pypoetry/virtualenvs/geo-info-mfl4iZU3-py3.10/lib/python3.10/site-packages (from trio~=0.17->selenium) (1.2.0)\n",
      "Requirement already satisfied: sortedcontainers in /home/sergey/.cache/pypoetry/virtualenvs/geo-info-mfl4iZU3-py3.10/lib/python3.10/site-packages (from trio~=0.17->selenium) (2.4.0)\n",
      "Requirement already satisfied: attrs>=19.2.0 in /home/sergey/.cache/pypoetry/virtualenvs/geo-info-mfl4iZU3-py3.10/lib/python3.10/site-packages (from trio~=0.17->selenium) (23.1.0)\n",
      "Requirement already satisfied: idna in /home/sergey/.cache/pypoetry/virtualenvs/geo-info-mfl4iZU3-py3.10/lib/python3.10/site-packages (from trio~=0.17->selenium) (3.4)\n",
      "Requirement already satisfied: wsproto>=0.14 in /home/sergey/.cache/pypoetry/virtualenvs/geo-info-mfl4iZU3-py3.10/lib/python3.10/site-packages (from trio-websocket~=0.9->selenium) (1.2.0)\n",
      "Requirement already satisfied: pysocks!=1.5.7,<2.0,>=1.5.6 in /home/sergey/.cache/pypoetry/virtualenvs/geo-info-mfl4iZU3-py3.10/lib/python3.10/site-packages (from urllib3[socks]<3,>=1.26->selenium) (1.7.1)\n",
      "Requirement already satisfied: h11<1,>=0.9.0 in /home/sergey/.cache/pypoetry/virtualenvs/geo-info-mfl4iZU3-py3.10/lib/python3.10/site-packages (from wsproto>=0.14->trio-websocket~=0.9->selenium) (0.14.0)\n",
      "\n",
      "\u001b[1m[\u001b[0m\u001b[34;49mnotice\u001b[0m\u001b[1;39;49m]\u001b[0m\u001b[39;49m A new release of pip is available: \u001b[0m\u001b[31;49m23.0.1\u001b[0m\u001b[39;49m -> \u001b[0m\u001b[32;49m23.1.2\u001b[0m\n",
      "\u001b[1m[\u001b[0m\u001b[34;49mnotice\u001b[0m\u001b[1;39;49m]\u001b[0m\u001b[39;49m To update, run: \u001b[0m\u001b[32;49mpython -m pip install --upgrade pip\u001b[0m\n"
     ]
    }
   ],
   "source": [
    "!/usr/bin/env python -m pip install selenium pandas"
   ]
  },
  {
   "cell_type": "code",
   "execution_count": 2,
   "metadata": {},
   "outputs": [],
   "source": [
    "import time\n",
    "import re\n",
    "\n",
    "from selenium import webdriver\n",
    "from selenium.webdriver.common.by import By\n",
    "from selenium.webdriver.common.keys import Keys"
   ]
  },
  {
   "cell_type": "code",
   "execution_count": 5,
   "metadata": {},
   "outputs": [],
   "source": [
    "firefox_options = webdriver.FirefoxOptions()\n",
    "driver = webdriver.Remote(command_executor=\"http://localhost:4444/wd/hub\", options=firefox_options)"
   ]
  },
  {
   "cell_type": "code",
   "execution_count": 11,
   "metadata": {},
   "outputs": [],
   "source": [
    "routes = []"
   ]
  },
  {
   "cell_type": "code",
   "execution_count": 12,
   "metadata": {},
   "outputs": [
    {
     "ename": "JavascriptException",
     "evalue": "Message: TypeError: document.querySelector(...) is null\nStacktrace:\n@https://2gis.ru/moscow/search/%D0%94%D0%B5%D1%82%D1%81%D0%BA%D0%B8%D0%B5%2B%D1%81%D0%B0%D0%B4%D1%8B/rubricId/237:2:16\n@https://2gis.ru/moscow/search/%D0%94%D0%B5%D1%82%D1%81%D0%BA%D0%B8%D0%B5%2B%D1%81%D0%B0%D0%B4%D1%8B/rubricId/237:3:8\n",
     "output_type": "error",
     "traceback": [
      "\u001b[0;31m---------------------------------------------------------------------------\u001b[0m",
      "\u001b[0;31mJavascriptException\u001b[0m                       Traceback (most recent call last)",
      "Cell \u001b[0;32mIn[12], line 4\u001b[0m\n\u001b[1;32m      2\u001b[0m \u001b[39mwhile\u001b[39;00m \u001b[39mTrue\u001b[39;00m:\n\u001b[1;32m      3\u001b[0m     routes\u001b[39m.\u001b[39mextend(el\u001b[39m.\u001b[39mfind_element(By\u001b[39m.\u001b[39mCLASS_NAME, \u001b[39m\"\u001b[39m\u001b[39m_1rehek\u001b[39m\u001b[39m\"\u001b[39m)\u001b[39m.\u001b[39mget_attribute(\u001b[39m'\u001b[39m\u001b[39mhref\u001b[39m\u001b[39m'\u001b[39m) \u001b[39mfor\u001b[39;00m el \u001b[39min\u001b[39;00m driver\u001b[39m.\u001b[39mfind_elements(By\u001b[39m.\u001b[39mCLASS_NAME, \u001b[39m\"\u001b[39m\u001b[39m_1kf6gff\u001b[39m\u001b[39m\"\u001b[39m) \u001b[39mif\u001b[39;00m el\u001b[39m.\u001b[39mfind_element(By\u001b[39m.\u001b[39mCLASS_NAME, \u001b[39m\"\u001b[39m\u001b[39m_oqoid\u001b[39m\u001b[39m\"\u001b[39m)\u001b[39m.\u001b[39mtext \u001b[39m==\u001b[39m \u001b[39m\"\u001b[39m\u001b[39mДетские сады\u001b[39m\u001b[39m\"\u001b[39m)\n\u001b[0;32m----> 4\u001b[0m     driver\u001b[39m.\u001b[39;49mexecute_script(\u001b[39m\"\u001b[39;49m\u001b[39mdocument.querySelector(\u001b[39;49m\u001b[39m'\u001b[39;49m\u001b[39mdiv._n5hmn94:last-child\u001b[39;49m\u001b[39m'\u001b[39;49m\u001b[39m).click();\u001b[39;49m\u001b[39m\"\u001b[39;49m)\n\u001b[1;32m      5\u001b[0m     time\u001b[39m.\u001b[39msleep(\u001b[39m1.5\u001b[39m)\n",
      "File \u001b[0;32m~/.cache/pypoetry/virtualenvs/geo-info-mfl4iZU3-py3.10/lib/python3.10/site-packages/selenium/webdriver/remote/webdriver.py:500\u001b[0m, in \u001b[0;36mWebDriver.execute_script\u001b[0;34m(self, script, *args)\u001b[0m\n\u001b[1;32m    497\u001b[0m converted_args \u001b[39m=\u001b[39m \u001b[39mlist\u001b[39m(args)\n\u001b[1;32m    498\u001b[0m command \u001b[39m=\u001b[39m Command\u001b[39m.\u001b[39mW3C_EXECUTE_SCRIPT\n\u001b[0;32m--> 500\u001b[0m \u001b[39mreturn\u001b[39;00m \u001b[39mself\u001b[39;49m\u001b[39m.\u001b[39;49mexecute(command, {\u001b[39m\"\u001b[39;49m\u001b[39mscript\u001b[39;49m\u001b[39m\"\u001b[39;49m: script, \u001b[39m\"\u001b[39;49m\u001b[39margs\u001b[39;49m\u001b[39m\"\u001b[39;49m: converted_args})[\u001b[39m\"\u001b[39m\u001b[39mvalue\u001b[39m\u001b[39m\"\u001b[39m]\n",
      "File \u001b[0;32m~/.cache/pypoetry/virtualenvs/geo-info-mfl4iZU3-py3.10/lib/python3.10/site-packages/selenium/webdriver/remote/webdriver.py:440\u001b[0m, in \u001b[0;36mWebDriver.execute\u001b[0;34m(self, driver_command, params)\u001b[0m\n\u001b[1;32m    438\u001b[0m response \u001b[39m=\u001b[39m \u001b[39mself\u001b[39m\u001b[39m.\u001b[39mcommand_executor\u001b[39m.\u001b[39mexecute(driver_command, params)\n\u001b[1;32m    439\u001b[0m \u001b[39mif\u001b[39;00m response:\n\u001b[0;32m--> 440\u001b[0m     \u001b[39mself\u001b[39;49m\u001b[39m.\u001b[39;49merror_handler\u001b[39m.\u001b[39;49mcheck_response(response)\n\u001b[1;32m    441\u001b[0m     response[\u001b[39m\"\u001b[39m\u001b[39mvalue\u001b[39m\u001b[39m\"\u001b[39m] \u001b[39m=\u001b[39m \u001b[39mself\u001b[39m\u001b[39m.\u001b[39m_unwrap_value(response\u001b[39m.\u001b[39mget(\u001b[39m\"\u001b[39m\u001b[39mvalue\u001b[39m\u001b[39m\"\u001b[39m, \u001b[39mNone\u001b[39;00m))\n\u001b[1;32m    442\u001b[0m     \u001b[39mreturn\u001b[39;00m response\n",
      "File \u001b[0;32m~/.cache/pypoetry/virtualenvs/geo-info-mfl4iZU3-py3.10/lib/python3.10/site-packages/selenium/webdriver/remote/errorhandler.py:245\u001b[0m, in \u001b[0;36mErrorHandler.check_response\u001b[0;34m(self, response)\u001b[0m\n\u001b[1;32m    243\u001b[0m         alert_text \u001b[39m=\u001b[39m value[\u001b[39m\"\u001b[39m\u001b[39malert\u001b[39m\u001b[39m\"\u001b[39m]\u001b[39m.\u001b[39mget(\u001b[39m\"\u001b[39m\u001b[39mtext\u001b[39m\u001b[39m\"\u001b[39m)\n\u001b[1;32m    244\u001b[0m     \u001b[39mraise\u001b[39;00m exception_class(message, screen, stacktrace, alert_text)  \u001b[39m# type: ignore[call-arg]  # mypy is not smart enough here\u001b[39;00m\n\u001b[0;32m--> 245\u001b[0m \u001b[39mraise\u001b[39;00m exception_class(message, screen, stacktrace)\n",
      "\u001b[0;31mJavascriptException\u001b[0m: Message: TypeError: document.querySelector(...) is null\nStacktrace:\n@https://2gis.ru/moscow/search/%D0%94%D0%B5%D1%82%D1%81%D0%BA%D0%B8%D0%B5%2B%D1%81%D0%B0%D0%B4%D1%8B/rubricId/237:2:16\n@https://2gis.ru/moscow/search/%D0%94%D0%B5%D1%82%D1%81%D0%BA%D0%B8%D0%B5%2B%D1%81%D0%B0%D0%B4%D1%8B/rubricId/237:3:8\n"
     ]
    }
   ],
   "source": [
    "driver.get(f\"https://2gis.ru/moscow/search/Детские+сады/rubricId/237\")\n",
    "while True:\n",
    "    routes.extend(el.find_element(By.CLASS_NAME, \"_1rehek\").get_attribute('href') for el in driver.find_elements(By.CLASS_NAME, \"_1kf6gff\") if el.find_element(By.CLASS_NAME, \"_oqoid\").text == \"Детские сады\")\n",
    "    driver.execute_script(\"document.querySelector('div._n5hmn94:last-child').click();\")\n",
    "    time.sleep(1.5)"
   ]
  },
  {
   "cell_type": "code",
   "execution_count": 10,
   "metadata": {},
   "outputs": [
    {
     "data": {
      "text/plain": [
       "'https://2gis.ru/moscow/firm/4504127908474124?stat=eyJwYXJlbnRUYWJJZCI6ImY4MTU1NzA1LTIzYjMtNGU3YS1hMTI0LTgyNWU1MDU5Nzg0YiIsImZvcmtFdmVudE9yZGluYWwiOjIsInVpRWxlbWVudCI6eyJuYW1lIjoicGxhY2VDYXJkTWluaSIsIm93bmVyTmFtZSI6InNlYXJjaFJlc3VsdHNMaXN0IiwicG9zaXRpb24iOjN9LCJwbGFjZUl0ZW0iOnsiZW50aXR5Ijp7ImlkIjoiNDUwNDEyNzkwODQ3NDEyNCIsInR5cGUiOiJicmFuY2giLCJzZWdtZW50SW5mbyI6eyJiYXNlTG9jYWxlIjoicnVfUlUiLCJzZWdtZW50SWQiOiIzMiJ9fSwiZ2VvUG9zaXRpb24iOnsibG9uIjozNy42NDA5NTMsImxhdCI6NTUuNzU0OTk2fSwiaHlicmlkRW50aXRpZXMiOlt7ImlkIjoiNDUwNDIzNTI4MjczNTk3NiIsInR5cGUiOiJidWlsZGluZyJ9XSwiYWRzU2VhcmNoIjpmYWxzZSwibWFpblJ1YnJpYyI6IjIzNyIsImlzRGVsZXRlZCI6ZmFsc2UsIm9yZyI6IjQ1MDQxMzY0OTgzMjczMjMiLCJjb250ZXh0UnVicmljIjoiMjM3IiwicmVzdWx0Q2xhc3MiOjIsInBvc2l0aW9uIjozfSwic2VhcmNoUmVzdWx0c0xpc3QiOnsic2l6ZSI6MzkyOSwic2VhcmNoVHlwZSI6MiwiZmlyc3RSZXN1bHRDbGFzcyI6MiwiY29udGV4dFJ1YnJpY3MiOlsiMjM3Il0sImhhc0dlb1Jlc3RyaWN0aW9uIjpmYWxzZSwicGFydGlhbFJlc3VsdCI6ZmFsc2UsImFkdmVydGlzZXJzIjpbeyJvcmciOiI3MDAwMDAwMTAxODI5Mzk2MiIsImNvbnRleHRSdWJyaWMiOiIyMzcifV0sIm91dHZpZXdwb3J0IjpbeyJsYXQiOjU1Ljg3ODA4OTU4NzgxNDM0NCwibG9uIjozNy4zMDE1NjY1MDEwNzY0Mn0seyJsYXQiOjU1LjYyODg0MjQxMjE4NTY2LCJsb24iOjM3LjMwMTU2NjUwMTA3NjQyfSx7ImxhdCI6NTUuNjI4ODQyNDEyMTg1NjYsImxvbiI6MzcuOTM4NzczNDk4OTIzNTh9LHsibGF0Ijo1NS44NzgwODk1ODc4MTQzNDQsImxvbiI6MzcuOTM4NzczNDk4OTIzNTh9XSwic2VhcmNoU2VnbWVudElkIjoiMzIiLCJydHdWZXJzaW9uIjoiZDM1MjZkYzAtMDMyYS00YzFjLTg3YmQtZDY1NmNhYzA1MjNmIn19'"
      ]
     },
     "execution_count": 10,
     "metadata": {},
     "output_type": "execute_result"
    }
   ],
   "source": [
    "len(routes)\n",
    "routes[0]"
   ]
  },
  {
   "cell_type": "code",
   "execution_count": 15,
   "metadata": {},
   "outputs": [],
   "source": [
    "from urllib.parse import unquote\n",
    "\n",
    "FIRM_ID_REGEX = re.compile(r\"firm/(\\d+)\")\n",
    "COORDS_REGEX = re.compile(r\"points\\/.?(?P<lon>\\d+\\.\\d+),(?P<lat>\\d+\\.\\d+);\")\n",
    "\n",
    "kindergartens = []\n",
    "for route_url in routes:\n",
    "    firm_id = FIRM_ID_REGEX.search(route_url)[1]\n",
    "    driver.get(route_url)\n",
    "    title = driver.find_element(By.XPATH, \"//h1[@class='_tvxwjf']/span\").text\n",
    "    href = driver.find_element(By.XPATH, \"//div[@class='_vaj62s'][last()]/a[@class='_1qhm93s']\").get_attribute(\"href\")\n",
    "    coords = COORDS_REGEX.search(unquote(href)).groupdict()\n",
    "    kindergartens.append(dict(firm_id=firm_id, title=title, **coords))"
   ]
  },
  {
   "cell_type": "code",
   "execution_count": 16,
   "metadata": {},
   "outputs": [],
   "source": [
    "import json\n",
    "with open(\"./kindergartens.json\", 'w') as f:\n",
    "    json.dump(kindergartens, f)"
   ]
  },
  {
   "cell_type": "code",
   "execution_count": 17,
   "metadata": {},
   "outputs": [
    {
     "data": {
      "text/html": [
       "<div>\n",
       "<style scoped>\n",
       "    .dataframe tbody tr th:only-of-type {\n",
       "        vertical-align: middle;\n",
       "    }\n",
       "\n",
       "    .dataframe tbody tr th {\n",
       "        vertical-align: top;\n",
       "    }\n",
       "\n",
       "    .dataframe thead th {\n",
       "        text-align: right;\n",
       "    }\n",
       "</style>\n",
       "<table border=\"1\" class=\"dataframe\">\n",
       "  <thead>\n",
       "    <tr style=\"text-align: right;\">\n",
       "      <th></th>\n",
       "      <th>firm_id</th>\n",
       "      <th>title</th>\n",
       "      <th>lon</th>\n",
       "      <th>lat</th>\n",
       "    </tr>\n",
       "  </thead>\n",
       "  <tbody>\n",
       "    <tr>\n",
       "      <th>0</th>\n",
       "      <td>4504127908474124</td>\n",
       "      <td>Детский сад №395</td>\n",
       "      <td>37.640953</td>\n",
       "      <td>55.754996</td>\n",
       "    </tr>\n",
       "    <tr>\n",
       "      <th>1</th>\n",
       "      <td>4504127908786633</td>\n",
       "      <td>Школа №641 им. С. Есенина с дошкольным отделением</td>\n",
       "      <td>37.75183</td>\n",
       "      <td>55.705557</td>\n",
       "    </tr>\n",
       "    <tr>\n",
       "      <th>2</th>\n",
       "      <td>4504128908394258</td>\n",
       "      <td>Школа №1290 с дошкольным отделением</td>\n",
       "      <td>37.763389</td>\n",
       "      <td>55.798272</td>\n",
       "    </tr>\n",
       "    <tr>\n",
       "      <th>3</th>\n",
       "      <td>4504127908351744</td>\n",
       "      <td>Школа им. Маршала В.И. Чуйкова с дошкольным от...</td>\n",
       "      <td>37.764193</td>\n",
       "      <td>55.71196</td>\n",
       "    </tr>\n",
       "    <tr>\n",
       "      <th>4</th>\n",
       "      <td>4504127908490635</td>\n",
       "      <td>Школа №1164</td>\n",
       "      <td>37.574328</td>\n",
       "      <td>55.796348</td>\n",
       "    </tr>\n",
       "  </tbody>\n",
       "</table>\n",
       "</div>"
      ],
      "text/plain": [
       "            firm_id                                              title   \n",
       "0  4504127908474124                                   Детский сад №395  \\\n",
       "1  4504127908786633  Школа №641 им. С. Есенина с дошкольным отделением   \n",
       "2  4504128908394258                Школа №1290 с дошкольным отделением   \n",
       "3  4504127908351744  Школа им. Маршала В.И. Чуйкова с дошкольным от...   \n",
       "4  4504127908490635                                        Школа №1164   \n",
       "\n",
       "         lon        lat  \n",
       "0  37.640953  55.754996  \n",
       "1   37.75183  55.705557  \n",
       "2  37.763389  55.798272  \n",
       "3  37.764193   55.71196  \n",
       "4  37.574328  55.796348  "
      ]
     },
     "execution_count": 17,
     "metadata": {},
     "output_type": "execute_result"
    }
   ],
   "source": [
    "import pandas as pd\n",
    "df = pd.DataFrame.from_records(kindergartens)\n",
    "df.head()"
   ]
  },
  {
   "cell_type": "code",
   "execution_count": 18,
   "metadata": {},
   "outputs": [],
   "source": [
    "df.lon = pd.to_numeric(df.lon)\n",
    "df.lat = pd.to_numeric(df.lat)"
   ]
  },
  {
   "cell_type": "code",
   "execution_count": 19,
   "metadata": {},
   "outputs": [],
   "source": [
    "import redis\n",
    "R = redis.Redis(host='localhost')"
   ]
  },
  {
   "cell_type": "code",
   "execution_count": 20,
   "metadata": {},
   "outputs": [],
   "source": [
    "for index, row in df.iterrows():\n",
    "    data = row.to_dict()\n",
    "    lon = data.pop(\"lon\")\n",
    "    lat = data.pop(\"lat\")\n",
    "    R.geoadd(\"organization:kindergarten\", (lon, lat, json.dumps(data)))"
   ]
  },
  {
   "cell_type": "code",
   "execution_count": null,
   "metadata": {},
   "outputs": [],
   "source": []
  }
 ],
 "metadata": {
  "kernelspec": {
   "display_name": "geo_info",
   "language": "python",
   "name": "geo_info"
  },
  "language_info": {
   "codemirror_mode": {
    "name": "ipython",
    "version": 3
   },
   "file_extension": ".py",
   "mimetype": "text/x-python",
   "name": "python",
   "nbconvert_exporter": "python",
   "pygments_lexer": "ipython3",
   "version": "3.10.7"
  },
  "orig_nbformat": 4
 },
 "nbformat": 4,
 "nbformat_minor": 2
}
